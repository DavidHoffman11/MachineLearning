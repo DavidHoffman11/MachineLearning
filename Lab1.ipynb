{
 "cells": [
  {
   "cell_type": "markdown",
   "id": "996408c0",
   "metadata": {},
   "source": [
    "# Lab One: Exploring Table Data\n",
    "\n",
    "#### By: David Hoffman, Jonas Moros, and Sully Billingsly"
   ]
  },
  {
   "cell_type": "markdown",
   "id": "e33935bc",
   "metadata": {},
   "source": [
    "## 1. Business Understanding"
   ]
  },
  {
   "cell_type": "markdown",
   "id": "090ee75d",
   "metadata": {},
   "source": [
    "Bitcoin is the longest running and most well-known cryptocurrency on the market.  This dataset is comprised of minute to minute updates of OHLC (Open, High, Low, Close), Volume in BTC and indicated currency, and weighted bitcoin price from the period of January 2012 to March of 2021.  The first collumn of each row contains a Unix timestamp which represents when the remainder of the datapoints in that row were collected.\n",
    "\n",
    "This data was collected in order to understand various trends within the Bitcoin market and is used by many traders to train the machine learning algorithms that they use to automate the entirety of their daily crypocurrency trading.  Similarly to these cryptocurrency day traders, our prediction task is to predict whether or not the price of bitcoin will rise or fall on any given day.  \n",
    "\n",
    "If we are able to generate a meaningful conclusion from this data the results we obtain could prove incredibly useful for nearly any third party from large corporations to small private investors.  Given the ease with which Bitcoin can be traded on public markets such as Coinbase or Robinhood, anyone who has access to these applications could use our conclusions to guide their bitcoin trades in a profitable direction.  \n",
    "\n",
    "In order for our research to be useful for our needs as well as the needs of the general consumer, our conclusions would need to have at least an 80% accuracy rating.  We believe it is impossible to be 100% accurate with these predictions given the incredible volatility of the market we are trying to predict; however, if we are able to reach an 80% accuracy rating our predictions would start to give us a competitive edge within the market.  With 80% accuracy we would expext to accurately predict most of the big swings which are where we would do the majority of our more high-risk buys and sells.  Contrarily, we would expect the majority of our 20% error to come from days that were not predicted to move much either way and went slighly up when we expected it to go down or vice versa.  On these days we would plan on holding our assets anyway and therefore would hardly feel the negative impact of a prediction error.\n",
    "\n",
    "Dataset URL: https://www.kaggle.com/mczielinski/bitcoin-historical-data"
   ]
  },
  {
   "cell_type": "markdown",
   "id": "a0b438e8",
   "metadata": {},
   "source": [
    "## 2. Data Understanding"
   ]
  },
  {
   "cell_type": "markdown",
   "id": "bd55a099",
   "metadata": {},
   "source": [
    "### 2.1 Data Description"
   ]
  },
  {
   "cell_type": "code",
   "execution_count": 2,
   "id": "fdd7f358",
   "metadata": {},
   "outputs": [
    {
     "name": "stdout",
     "output_type": "stream",
     "text": [
      "Length of bitcoin dataset: 4857377\n"
     ]
    },
    {
     "data": {
      "text/html": [
       "<div>\n",
       "<style scoped>\n",
       "    .dataframe tbody tr th:only-of-type {\n",
       "        vertical-align: middle;\n",
       "    }\n",
       "\n",
       "    .dataframe tbody tr th {\n",
       "        vertical-align: top;\n",
       "    }\n",
       "\n",
       "    .dataframe thead th {\n",
       "        text-align: right;\n",
       "    }\n",
       "</style>\n",
       "<table border=\"1\" class=\"dataframe\">\n",
       "  <thead>\n",
       "    <tr style=\"text-align: right;\">\n",
       "      <th></th>\n",
       "      <th>Timestamp</th>\n",
       "      <th>Open</th>\n",
       "      <th>High</th>\n",
       "      <th>Low</th>\n",
       "      <th>Close</th>\n",
       "      <th>Volume_(BTC)</th>\n",
       "      <th>Volume_(Currency)</th>\n",
       "      <th>Weighted_Price</th>\n",
       "      <th>Day_Stats</th>\n",
       "    </tr>\n",
       "  </thead>\n",
       "  <tbody>\n",
       "    <tr>\n",
       "      <th>0</th>\n",
       "      <td>1325317920</td>\n",
       "      <td>4.39</td>\n",
       "      <td>4.39</td>\n",
       "      <td>4.39</td>\n",
       "      <td>4.39</td>\n",
       "      <td>0.455581</td>\n",
       "      <td>2.0</td>\n",
       "      <td>4.39</td>\n",
       "      <td>0.0</td>\n",
       "    </tr>\n",
       "    <tr>\n",
       "      <th>1</th>\n",
       "      <td>1325317980</td>\n",
       "      <td>NaN</td>\n",
       "      <td>NaN</td>\n",
       "      <td>NaN</td>\n",
       "      <td>NaN</td>\n",
       "      <td>NaN</td>\n",
       "      <td>NaN</td>\n",
       "      <td>NaN</td>\n",
       "      <td>NaN</td>\n",
       "    </tr>\n",
       "    <tr>\n",
       "      <th>2</th>\n",
       "      <td>1325318040</td>\n",
       "      <td>NaN</td>\n",
       "      <td>NaN</td>\n",
       "      <td>NaN</td>\n",
       "      <td>NaN</td>\n",
       "      <td>NaN</td>\n",
       "      <td>NaN</td>\n",
       "      <td>NaN</td>\n",
       "      <td>NaN</td>\n",
       "    </tr>\n",
       "    <tr>\n",
       "      <th>3</th>\n",
       "      <td>1325318100</td>\n",
       "      <td>NaN</td>\n",
       "      <td>NaN</td>\n",
       "      <td>NaN</td>\n",
       "      <td>NaN</td>\n",
       "      <td>NaN</td>\n",
       "      <td>NaN</td>\n",
       "      <td>NaN</td>\n",
       "      <td>NaN</td>\n",
       "    </tr>\n",
       "    <tr>\n",
       "      <th>4</th>\n",
       "      <td>1325318160</td>\n",
       "      <td>NaN</td>\n",
       "      <td>NaN</td>\n",
       "      <td>NaN</td>\n",
       "      <td>NaN</td>\n",
       "      <td>NaN</td>\n",
       "      <td>NaN</td>\n",
       "      <td>NaN</td>\n",
       "      <td>NaN</td>\n",
       "    </tr>\n",
       "  </tbody>\n",
       "</table>\n",
       "</div>"
      ],
      "text/plain": [
       "    Timestamp  Open  High   Low  Close  Volume_(BTC)  Volume_(Currency)  \\\n",
       "0  1325317920  4.39  4.39  4.39   4.39      0.455581                2.0   \n",
       "1  1325317980   NaN   NaN   NaN    NaN           NaN                NaN   \n",
       "2  1325318040   NaN   NaN   NaN    NaN           NaN                NaN   \n",
       "3  1325318100   NaN   NaN   NaN    NaN           NaN                NaN   \n",
       "4  1325318160   NaN   NaN   NaN    NaN           NaN                NaN   \n",
       "\n",
       "   Weighted_Price  Day_Stats  \n",
       "0            4.39        0.0  \n",
       "1             NaN        NaN  \n",
       "2             NaN        NaN  \n",
       "3             NaN        NaN  \n",
       "4             NaN        NaN  "
      ]
     },
     "execution_count": 2,
     "metadata": {},
     "output_type": "execute_result"
    }
   ],
   "source": [
    "import pandas as pd\n",
    "import numpy as np\n",
    "\n",
    "# load bitcoin historical dataset into pandas and give it a color attribute\n",
    "df = pd.read_csv('./bitstampUSD_1-min_data_2012-01-01_to_2021-03-31.csv')\n",
    "\n",
    "# Tracks the overall performance for each day, will be converted into categorical data\n",
    "df['Day_Stats'] = df['Open'] - df['Close']\n",
    "\n",
    "#print number of rows in df to confirm all data is loaded in\n",
    "print('Length of bitcoin dataset:', df.shape[0])\n",
    "\n",
    "df.head()"
   ]
  },
  {
   "cell_type": "markdown",
   "id": "ec21cb7d",
   "metadata": {},
   "source": [
    "As seen in the code above, we created an additional ninth column which I have declared 'Day_Stats.'  This is a very important column as it will track the overall performance of each day by subtracting the opening price from the closing price resulting in the overall movement in price over the course of a single day.  We will treat this as categorical data and will convert the numeric answer into a string which will define the day as either being 'Big Up', 'Small Up', 'No Change', 'Small Down', or 'Big Down'. In addition to the 'Day_Stats' categorical feature, 'Open', 'Close', 'High', and 'Low' will be very important features for our analysis as well.  We do not expect to find as useful of a correlation within the 'Volume_(BTC)', 'Volume_(Currency)', and 'Weighted_Price' features although we still will try to gain as much insight as possible from all of the different features included in our dataframe."
   ]
  },
  {
   "cell_type": "code",
   "execution_count": 3,
   "id": "da5991a5",
   "metadata": {},
   "outputs": [
    {
     "data": {
      "text/html": [
       "<div>\n",
       "<style scoped>\n",
       "    .dataframe tbody tr th:only-of-type {\n",
       "        vertical-align: middle;\n",
       "    }\n",
       "\n",
       "    .dataframe tbody tr th {\n",
       "        vertical-align: top;\n",
       "    }\n",
       "\n",
       "    .dataframe thead th {\n",
       "        text-align: right;\n",
       "    }\n",
       "</style>\n",
       "<table border=\"1\" class=\"dataframe\">\n",
       "  <thead>\n",
       "    <tr style=\"text-align: right;\">\n",
       "      <th></th>\n",
       "      <th>Timestamp</th>\n",
       "      <th>Open</th>\n",
       "      <th>High</th>\n",
       "      <th>Low</th>\n",
       "      <th>Close</th>\n",
       "      <th>Volume_(BTC)</th>\n",
       "      <th>Volume_(Currency)</th>\n",
       "      <th>Weighted_Price</th>\n",
       "      <th>Day_Stats</th>\n",
       "      <th>DS_categorical</th>\n",
       "    </tr>\n",
       "  </thead>\n",
       "  <tbody>\n",
       "    <tr>\n",
       "      <th>0</th>\n",
       "      <td>1325317920</td>\n",
       "      <td>4.39</td>\n",
       "      <td>4.39</td>\n",
       "      <td>4.39</td>\n",
       "      <td>4.39</td>\n",
       "      <td>0.455581</td>\n",
       "      <td>2.0</td>\n",
       "      <td>4.39</td>\n",
       "      <td>0.0</td>\n",
       "      <td>No Change</td>\n",
       "    </tr>\n",
       "    <tr>\n",
       "      <th>1</th>\n",
       "      <td>1325317980</td>\n",
       "      <td>NaN</td>\n",
       "      <td>NaN</td>\n",
       "      <td>NaN</td>\n",
       "      <td>NaN</td>\n",
       "      <td>NaN</td>\n",
       "      <td>NaN</td>\n",
       "      <td>NaN</td>\n",
       "      <td>NaN</td>\n",
       "      <td>NaN</td>\n",
       "    </tr>\n",
       "    <tr>\n",
       "      <th>2</th>\n",
       "      <td>1325318040</td>\n",
       "      <td>NaN</td>\n",
       "      <td>NaN</td>\n",
       "      <td>NaN</td>\n",
       "      <td>NaN</td>\n",
       "      <td>NaN</td>\n",
       "      <td>NaN</td>\n",
       "      <td>NaN</td>\n",
       "      <td>NaN</td>\n",
       "      <td>NaN</td>\n",
       "    </tr>\n",
       "    <tr>\n",
       "      <th>3</th>\n",
       "      <td>1325318100</td>\n",
       "      <td>NaN</td>\n",
       "      <td>NaN</td>\n",
       "      <td>NaN</td>\n",
       "      <td>NaN</td>\n",
       "      <td>NaN</td>\n",
       "      <td>NaN</td>\n",
       "      <td>NaN</td>\n",
       "      <td>NaN</td>\n",
       "      <td>NaN</td>\n",
       "    </tr>\n",
       "    <tr>\n",
       "      <th>4</th>\n",
       "      <td>1325318160</td>\n",
       "      <td>NaN</td>\n",
       "      <td>NaN</td>\n",
       "      <td>NaN</td>\n",
       "      <td>NaN</td>\n",
       "      <td>NaN</td>\n",
       "      <td>NaN</td>\n",
       "      <td>NaN</td>\n",
       "      <td>NaN</td>\n",
       "      <td>NaN</td>\n",
       "    </tr>\n",
       "  </tbody>\n",
       "</table>\n",
       "</div>"
      ],
      "text/plain": [
       "    Timestamp  Open  High   Low  Close  Volume_(BTC)  Volume_(Currency)  \\\n",
       "0  1325317920  4.39  4.39  4.39   4.39      0.455581                2.0   \n",
       "1  1325317980   NaN   NaN   NaN    NaN           NaN                NaN   \n",
       "2  1325318040   NaN   NaN   NaN    NaN           NaN                NaN   \n",
       "3  1325318100   NaN   NaN   NaN    NaN           NaN                NaN   \n",
       "4  1325318160   NaN   NaN   NaN    NaN           NaN                NaN   \n",
       "\n",
       "   Weighted_Price  Day_Stats DS_categorical  \n",
       "0            4.39        0.0      No Change  \n",
       "1             NaN        NaN            NaN  \n",
       "2             NaN        NaN            NaN  \n",
       "3             NaN        NaN            NaN  \n",
       "4             NaN        NaN            NaN  "
      ]
     },
     "execution_count": 3,
     "metadata": {},
     "output_type": "execute_result"
    }
   ],
   "source": [
    "# Numerical Data in the 'Day_Stats' column is converted into a string that enhances readibility\n",
    "df.loc[df['Day_Stats'] > 3, 'DS_categorical'] = 'Big Up' \n",
    "df.loc[(df['Day_Stats'] <= 3) & (df['Day_Stats'] > 1), 'DS_categorical'] = 'Small Up' \n",
    "df.loc[(df['Day_Stats'] <= 1) & (df['Day_Stats'] >= -1), 'DS_categorical'] = 'No Change' \n",
    "df.loc[(df['Day_Stats'] < -1) & (df['Day_Stats'] >= -3), 'DS_categorical'] = 'Small Down' \n",
    "df.loc[df['Day_Stats'] < -3, 'DS_categorical'] = 'Big Down'\n",
    "\n",
    "df.head()"
   ]
  },
  {
   "cell_type": "markdown",
   "id": "4a3cbd7d",
   "metadata": {},
   "source": [
    "The conversion of the 'Day_Stats' data from an integer to a string greatly enhances readability and makes the data easier to understand from an outside perspective.  This feature will likely be the most important out of all of our columns and will be a large indicator for which features create rises and falls in the value of Bitcoin. The converted feature can be seen next to the integer on the far right of the table."
   ]
  },
  {
   "cell_type": "code",
   "execution_count": 4,
   "id": "6976558f",
   "metadata": {},
   "outputs": [
    {
     "name": "stdout",
     "output_type": "stream",
     "text": [
      "<class 'pandas.core.frame.DataFrame'>\n",
      "RangeIndex: 4857377 entries, 0 to 4857376\n",
      "Data columns (total 10 columns):\n",
      " #   Column             Dtype  \n",
      "---  ------             -----  \n",
      " 0   Timestamp          int64  \n",
      " 1   Open               float64\n",
      " 2   High               float64\n",
      " 3   Low                float64\n",
      " 4   Close              float64\n",
      " 5   Volume_(BTC)       float64\n",
      " 6   Volume_(Currency)  float64\n",
      " 7   Weighted_Price     float64\n",
      " 8   Day_Stats          float64\n",
      " 9   DS_categorical     object \n",
      "dtypes: float64(8), int64(1), object(1)\n",
      "memory usage: 370.6+ MB\n",
      "None\n"
     ]
    }
   ],
   "source": [
    "print(df.info())"
   ]
  },
  {
   "cell_type": "markdown",
   "id": "16265f72",
   "metadata": {},
   "source": [
    "The .info() function is generally utilized to print a concise summary of a particular dataframe.  As you can see, all of my features are defined as floats except for the timestamp which is an integer and the day_stats which is an object string."
   ]
  },
  {
   "cell_type": "code",
   "execution_count": 5,
   "id": "0e3e1468",
   "metadata": {},
   "outputs": [
    {
     "data": {
      "text/html": [
       "<div>\n",
       "<style scoped>\n",
       "    .dataframe tbody tr th:only-of-type {\n",
       "        vertical-align: middle;\n",
       "    }\n",
       "\n",
       "    .dataframe tbody tr th {\n",
       "        vertical-align: top;\n",
       "    }\n",
       "\n",
       "    .dataframe thead th {\n",
       "        text-align: right;\n",
       "    }\n",
       "</style>\n",
       "<table border=\"1\" class=\"dataframe\">\n",
       "  <thead>\n",
       "    <tr style=\"text-align: right;\">\n",
       "      <th></th>\n",
       "      <th>Timestamp</th>\n",
       "      <th>Open</th>\n",
       "      <th>High</th>\n",
       "      <th>Low</th>\n",
       "      <th>Close</th>\n",
       "      <th>Volume_(BTC)</th>\n",
       "      <th>Volume_(Currency)</th>\n",
       "      <th>Weighted_Price</th>\n",
       "      <th>Day_Stats</th>\n",
       "    </tr>\n",
       "  </thead>\n",
       "  <tbody>\n",
       "    <tr>\n",
       "      <th>count</th>\n",
       "      <td>4.857377e+06</td>\n",
       "      <td>3.613769e+06</td>\n",
       "      <td>3.613769e+06</td>\n",
       "      <td>3.613769e+06</td>\n",
       "      <td>3.613769e+06</td>\n",
       "      <td>3.613769e+06</td>\n",
       "      <td>3.613769e+06</td>\n",
       "      <td>3.613769e+06</td>\n",
       "      <td>3.613769e+06</td>\n",
       "    </tr>\n",
       "    <tr>\n",
       "      <th>mean</th>\n",
       "      <td>1.471301e+09</td>\n",
       "      <td>6.009024e+03</td>\n",
       "      <td>6.013357e+03</td>\n",
       "      <td>6.004488e+03</td>\n",
       "      <td>6.009014e+03</td>\n",
       "      <td>9.323249e+00</td>\n",
       "      <td>4.176284e+04</td>\n",
       "      <td>6.008935e+03</td>\n",
       "      <td>1.013512e-02</td>\n",
       "    </tr>\n",
       "    <tr>\n",
       "      <th>std</th>\n",
       "      <td>8.428019e+07</td>\n",
       "      <td>8.996247e+03</td>\n",
       "      <td>9.003521e+03</td>\n",
       "      <td>8.988778e+03</td>\n",
       "      <td>8.996360e+03</td>\n",
       "      <td>3.054989e+01</td>\n",
       "      <td>1.518248e+05</td>\n",
       "      <td>8.995992e+03</td>\n",
       "      <td>1.537593e+01</td>\n",
       "    </tr>\n",
       "    <tr>\n",
       "      <th>min</th>\n",
       "      <td>1.325318e+09</td>\n",
       "      <td>3.800000e+00</td>\n",
       "      <td>3.800000e+00</td>\n",
       "      <td>1.500000e+00</td>\n",
       "      <td>1.500000e+00</td>\n",
       "      <td>0.000000e+00</td>\n",
       "      <td>0.000000e+00</td>\n",
       "      <td>3.800000e+00</td>\n",
       "      <td>-1.186760e+03</td>\n",
       "    </tr>\n",
       "    <tr>\n",
       "      <th>25%</th>\n",
       "      <td>1.398179e+09</td>\n",
       "      <td>4.438600e+02</td>\n",
       "      <td>4.440000e+02</td>\n",
       "      <td>4.435200e+02</td>\n",
       "      <td>4.438600e+02</td>\n",
       "      <td>4.097759e-01</td>\n",
       "      <td>4.521422e+02</td>\n",
       "      <td>4.438306e+02</td>\n",
       "      <td>-7.200000e-01</td>\n",
       "    </tr>\n",
       "    <tr>\n",
       "      <th>50%</th>\n",
       "      <td>1.471428e+09</td>\n",
       "      <td>3.596970e+03</td>\n",
       "      <td>3.598190e+03</td>\n",
       "      <td>3.595620e+03</td>\n",
       "      <td>3.597000e+03</td>\n",
       "      <td>1.979811e+00</td>\n",
       "      <td>3.810124e+03</td>\n",
       "      <td>3.596804e+03</td>\n",
       "      <td>0.000000e+00</td>\n",
       "    </tr>\n",
       "    <tr>\n",
       "      <th>75%</th>\n",
       "      <td>1.544288e+09</td>\n",
       "      <td>8.627270e+03</td>\n",
       "      <td>8.632980e+03</td>\n",
       "      <td>8.621090e+03</td>\n",
       "      <td>8.627160e+03</td>\n",
       "      <td>7.278216e+00</td>\n",
       "      <td>2.569821e+04</td>\n",
       "      <td>8.627637e+03</td>\n",
       "      <td>6.800000e-01</td>\n",
       "    </tr>\n",
       "    <tr>\n",
       "      <th>max</th>\n",
       "      <td>1.617149e+09</td>\n",
       "      <td>6.176356e+04</td>\n",
       "      <td>6.178183e+04</td>\n",
       "      <td>6.167355e+04</td>\n",
       "      <td>6.178180e+04</td>\n",
       "      <td>5.853852e+03</td>\n",
       "      <td>1.390067e+07</td>\n",
       "      <td>6.171621e+04</td>\n",
       "      <td>1.871980e+03</td>\n",
       "    </tr>\n",
       "  </tbody>\n",
       "</table>\n",
       "</div>"
      ],
      "text/plain": [
       "          Timestamp          Open          High           Low         Close  \\\n",
       "count  4.857377e+06  3.613769e+06  3.613769e+06  3.613769e+06  3.613769e+06   \n",
       "mean   1.471301e+09  6.009024e+03  6.013357e+03  6.004488e+03  6.009014e+03   \n",
       "std    8.428019e+07  8.996247e+03  9.003521e+03  8.988778e+03  8.996360e+03   \n",
       "min    1.325318e+09  3.800000e+00  3.800000e+00  1.500000e+00  1.500000e+00   \n",
       "25%    1.398179e+09  4.438600e+02  4.440000e+02  4.435200e+02  4.438600e+02   \n",
       "50%    1.471428e+09  3.596970e+03  3.598190e+03  3.595620e+03  3.597000e+03   \n",
       "75%    1.544288e+09  8.627270e+03  8.632980e+03  8.621090e+03  8.627160e+03   \n",
       "max    1.617149e+09  6.176356e+04  6.178183e+04  6.167355e+04  6.178180e+04   \n",
       "\n",
       "       Volume_(BTC)  Volume_(Currency)  Weighted_Price     Day_Stats  \n",
       "count  3.613769e+06       3.613769e+06    3.613769e+06  3.613769e+06  \n",
       "mean   9.323249e+00       4.176284e+04    6.008935e+03  1.013512e-02  \n",
       "std    3.054989e+01       1.518248e+05    8.995992e+03  1.537593e+01  \n",
       "min    0.000000e+00       0.000000e+00    3.800000e+00 -1.186760e+03  \n",
       "25%    4.097759e-01       4.521422e+02    4.438306e+02 -7.200000e-01  \n",
       "50%    1.979811e+00       3.810124e+03    3.596804e+03  0.000000e+00  \n",
       "75%    7.278216e+00       2.569821e+04    8.627637e+03  6.800000e-01  \n",
       "max    5.853852e+03       1.390067e+07    6.171621e+04  1.871980e+03  "
      ]
     },
     "execution_count": 5,
     "metadata": {},
     "output_type": "execute_result"
    }
   ],
   "source": [
    "df.describe()"
   ]
  },
  {
   "cell_type": "markdown",
   "id": "cd4b9f22",
   "metadata": {},
   "source": []
  },
  {
   "cell_type": "markdown",
   "id": "66e5b2af",
   "metadata": {},
   "source": [
    "### 2.2 Data Quality"
   ]
  },
  {
   "cell_type": "code",
   "execution_count": 27,
   "id": "21c24ec8",
   "metadata": {},
   "outputs": [
    {
     "name": "stdout",
     "output_type": "stream",
     "text": [
      "Timestamp                  0\n",
      "Open                 1243608\n",
      "High                 1243608\n",
      "Low                  1243608\n",
      "Close                1243608\n",
      "Volume_(BTC)         1243608\n",
      "Volume_(Currency)    1243608\n",
      "Weighted_Price       1243608\n",
      "Day_Stats            1243608\n",
      "DS_categorical       1243608\n",
      "dtype: int64\n"
     ]
    }
   ],
   "source": [
    "print(df.isnull().sum())"
   ]
  },
  {
   "cell_type": "markdown",
   "id": "7d441226",
   "metadata": {},
   "source": [
    "From this function we can see that there is significant number of null values (NaN) within our dataset. We have decided that elimination would be a be a better solution than imputation in order to smooth out our data and make our analysis easier. The main reason for this is the sheer number of missing data points it would be nearly impossible to impute these values in an effective manner."
   ]
  },
  {
   "cell_type": "code",
   "execution_count": 18,
   "id": "68e20cf3",
   "metadata": {
    "scrolled": true
   },
   "outputs": [
    {
     "name": "stdout",
     "output_type": "stream",
     "text": [
      "Length of updated dataset: 3613769\n",
      "Number of rows deleted by elimination operation: 1243608\n"
     ]
    },
    {
     "data": {
      "text/html": [
       "<div>\n",
       "<style scoped>\n",
       "    .dataframe tbody tr th:only-of-type {\n",
       "        vertical-align: middle;\n",
       "    }\n",
       "\n",
       "    .dataframe tbody tr th {\n",
       "        vertical-align: top;\n",
       "    }\n",
       "\n",
       "    .dataframe thead th {\n",
       "        text-align: right;\n",
       "    }\n",
       "</style>\n",
       "<table border=\"1\" class=\"dataframe\">\n",
       "  <thead>\n",
       "    <tr style=\"text-align: right;\">\n",
       "      <th></th>\n",
       "      <th>Timestamp</th>\n",
       "      <th>Open</th>\n",
       "      <th>High</th>\n",
       "      <th>Low</th>\n",
       "      <th>Close</th>\n",
       "      <th>Volume_(BTC)</th>\n",
       "      <th>Volume_(Currency)</th>\n",
       "      <th>Weighted_Price</th>\n",
       "      <th>Day_Stats</th>\n",
       "      <th>DS_categorical</th>\n",
       "    </tr>\n",
       "  </thead>\n",
       "  <tbody>\n",
       "    <tr>\n",
       "      <th>0</th>\n",
       "      <td>1325317920</td>\n",
       "      <td>4.39</td>\n",
       "      <td>4.39</td>\n",
       "      <td>4.39</td>\n",
       "      <td>4.39</td>\n",
       "      <td>0.455581</td>\n",
       "      <td>2.000000</td>\n",
       "      <td>4.390000</td>\n",
       "      <td>0.00</td>\n",
       "      <td>No Change</td>\n",
       "    </tr>\n",
       "    <tr>\n",
       "      <th>478</th>\n",
       "      <td>1325346600</td>\n",
       "      <td>4.39</td>\n",
       "      <td>4.39</td>\n",
       "      <td>4.39</td>\n",
       "      <td>4.39</td>\n",
       "      <td>48.000000</td>\n",
       "      <td>210.720000</td>\n",
       "      <td>4.390000</td>\n",
       "      <td>0.00</td>\n",
       "      <td>No Change</td>\n",
       "    </tr>\n",
       "    <tr>\n",
       "      <th>547</th>\n",
       "      <td>1325350740</td>\n",
       "      <td>4.50</td>\n",
       "      <td>4.57</td>\n",
       "      <td>4.50</td>\n",
       "      <td>4.57</td>\n",
       "      <td>37.862297</td>\n",
       "      <td>171.380338</td>\n",
       "      <td>4.526411</td>\n",
       "      <td>-0.07</td>\n",
       "      <td>No Change</td>\n",
       "    </tr>\n",
       "    <tr>\n",
       "      <th>548</th>\n",
       "      <td>1325350800</td>\n",
       "      <td>4.58</td>\n",
       "      <td>4.58</td>\n",
       "      <td>4.58</td>\n",
       "      <td>4.58</td>\n",
       "      <td>9.000000</td>\n",
       "      <td>41.220000</td>\n",
       "      <td>4.580000</td>\n",
       "      <td>0.00</td>\n",
       "      <td>No Change</td>\n",
       "    </tr>\n",
       "    <tr>\n",
       "      <th>1224</th>\n",
       "      <td>1325391360</td>\n",
       "      <td>4.58</td>\n",
       "      <td>4.58</td>\n",
       "      <td>4.58</td>\n",
       "      <td>4.58</td>\n",
       "      <td>1.502000</td>\n",
       "      <td>6.879160</td>\n",
       "      <td>4.580000</td>\n",
       "      <td>0.00</td>\n",
       "      <td>No Change</td>\n",
       "    </tr>\n",
       "  </tbody>\n",
       "</table>\n",
       "</div>"
      ],
      "text/plain": [
       "       Timestamp  Open  High   Low  Close  Volume_(BTC)  Volume_(Currency)  \\\n",
       "0     1325317920  4.39  4.39  4.39   4.39      0.455581           2.000000   \n",
       "478   1325346600  4.39  4.39  4.39   4.39     48.000000         210.720000   \n",
       "547   1325350740  4.50  4.57  4.50   4.57     37.862297         171.380338   \n",
       "548   1325350800  4.58  4.58  4.58   4.58      9.000000          41.220000   \n",
       "1224  1325391360  4.58  4.58  4.58   4.58      1.502000           6.879160   \n",
       "\n",
       "      Weighted_Price  Day_Stats DS_categorical  \n",
       "0           4.390000       0.00      No Change  \n",
       "478         4.390000       0.00      No Change  \n",
       "547         4.526411      -0.07      No Change  \n",
       "548         4.580000       0.00      No Change  \n",
       "1224        4.580000       0.00      No Change  "
      ]
     },
     "execution_count": 18,
     "metadata": {},
     "output_type": "execute_result"
    }
   ],
   "source": [
    "# Remove rows where all of the values are NaN\n",
    "df_eliminated = df.dropna(axis=0,thresh=2)\n",
    "\n",
    "# print number of rows in df_imputed\n",
    "print('Length of updated dataset:', df_eliminated.shape[0])\n",
    "\n",
    "# Print the number of rows that have been deleted by the elimination\n",
    "print('Number of rows deleted by elimination operation:', df.shape[0]-df_eliminated.shape[0])\n",
    "\n",
    "df_eliminated.head()"
   ]
  },
  {
   "cell_type": "code",
   "execution_count": 20,
   "id": "8c3d46b5",
   "metadata": {},
   "outputs": [
    {
     "name": "stdout",
     "output_type": "stream",
     "text": [
      "Timestamp            0\n",
      "Open                 0\n",
      "High                 0\n",
      "Low                  0\n",
      "Close                0\n",
      "Volume_(BTC)         0\n",
      "Volume_(Currency)    0\n",
      "Weighted_Price       0\n",
      "Day_Stats            0\n",
      "DS_categorical       0\n",
      "dtype: int64\n"
     ]
    }
   ],
   "source": [
    "print(df_eliminated.isnull().sum())"
   ]
  },
  {
   "cell_type": "markdown",
   "id": "af351a97",
   "metadata": {},
   "source": [
    "After performing the elimination operation, approximately 25% of the rows were eliminated giving us a much cleaner and more functional data set.  Additionally, the .isnull() function shows us that there are no more data holes within any of our features so we can proceed comfortably with the remainder of our analysis."
   ]
  },
  {
   "cell_type": "markdown",
   "id": "8c6026ec",
   "metadata": {},
   "source": [
    "## 3. Data Visualization"
   ]
  },
  {
   "cell_type": "code",
   "execution_count": null,
   "id": "0a784602",
   "metadata": {},
   "outputs": [],
   "source": []
  },
  {
   "cell_type": "markdown",
   "id": "c37f33e2",
   "metadata": {},
   "source": [
    "### 3.1 Feature Distribution Visualization"
   ]
  },
  {
   "cell_type": "code",
   "execution_count": null,
   "id": "fa5fd44e",
   "metadata": {},
   "outputs": [],
   "source": []
  },
  {
   "cell_type": "markdown",
   "id": "3ff297ce",
   "metadata": {},
   "source": [
    "### 3.2 Interesting Questions\n",
    "\n",
    "After using a variety of different plots to dissect and explore our data, we came up with these 3 interesting questions:\n",
    "\n",
    "    1. \n",
    "    2. \n",
    "    3."
   ]
  },
  {
   "cell_type": "markdown",
   "id": "a407e1ad",
   "metadata": {},
   "source": [
    "#### 3.2.1"
   ]
  },
  {
   "cell_type": "markdown",
   "id": "03b43791",
   "metadata": {},
   "source": [
    "#### 3.2.2"
   ]
  },
  {
   "cell_type": "markdown",
   "id": "e507b274",
   "metadata": {},
   "source": [
    "#### 3.2.3"
   ]
  },
  {
   "cell_type": "markdown",
   "id": "f78df023",
   "metadata": {},
   "source": [
    "## 4. Exceptional Work"
   ]
  },
  {
   "cell_type": "code",
   "execution_count": null,
   "id": "a557996a",
   "metadata": {},
   "outputs": [],
   "source": []
  },
  {
   "cell_type": "markdown",
   "id": "304dd55e",
   "metadata": {},
   "source": [
    "### References:"
   ]
  },
  {
   "cell_type": "markdown",
   "id": "bb75f6b5",
   "metadata": {},
   "source": [
    "[1] Kaggle Bitcoin Historical Data Dataset. https://www.kaggle.com/mczielinski/bitcoin-historical-data"
   ]
  }
 ],
 "metadata": {
  "kernelspec": {
   "display_name": "Python 3",
   "language": "python",
   "name": "python3"
  },
  "language_info": {
   "codemirror_mode": {
    "name": "ipython",
    "version": 3
   },
   "file_extension": ".py",
   "mimetype": "text/x-python",
   "name": "python",
   "nbconvert_exporter": "python",
   "pygments_lexer": "ipython3",
   "version": "3.8.8"
  }
 },
 "nbformat": 4,
 "nbformat_minor": 5
}
